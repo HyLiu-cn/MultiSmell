{
 "cells": [
  {
   "cell_type": "code",
   "execution_count": null,
   "id": "2dbbedda",
   "metadata": {},
   "outputs": [],
   "source": [
    "import torch\n",
    "from sklearn.model_selection import train_test_split\n",
    "import pandas as pd\n",
    "import numpy as np\n",
    "from sklearn.metrics import hamming_loss,jaccard_score,accuracy_score,precision_score,recall_score,f1_score\n",
    "from sklearn.metrics import classification_report,multilabel_confusion_matrix,roc_auc_score\n",
    "from sklearn import svm\n",
    "from sklearn.naive_bayes import BernoulliNB\n",
    "from sklearn.neighbors import KNeighborsClassifier\n",
    "from sklearn.tree import DecisionTreeClassifier\n",
    "from sklearn.ensemble import RandomForestClassifier as RF\n",
    "from sklearn.multioutput import MultiOutputClassifier"
   ]
  },
  {
   "cell_type": "markdown",
   "id": "d0298ffe",
   "metadata": {},
   "source": [
    "### SVM"
   ]
  },
  {
   "cell_type": "code",
   "execution_count": null,
   "id": "e9e7bb61",
   "metadata": {},
   "outputs": [],
   "source": [
    "estimator = svm.SVC(random_state=0)\n",
    "model_svm = MultiOutputClassifier(estimator=estimator)"
   ]
  },
  {
   "cell_type": "markdown",
   "id": "7304634e",
   "metadata": {},
   "source": [
    "### NB"
   ]
  },
  {
   "cell_type": "code",
   "execution_count": null,
   "id": "772bea85",
   "metadata": {},
   "outputs": [],
   "source": [
    "bnb = BernoulliNB()\n",
    "model_nb = MultiOutputClassifier(estimator=bnb)"
   ]
  },
  {
   "cell_type": "markdown",
   "id": "33f30cbb",
   "metadata": {},
   "source": [
    "### KNN"
   ]
  },
  {
   "cell_type": "code",
   "execution_count": null,
   "id": "186c8d92",
   "metadata": {},
   "outputs": [],
   "source": [
    "model_knn = KNeighborsClassifier(n_neighbors=5)"
   ]
  },
  {
   "cell_type": "markdown",
   "id": "1635e20f",
   "metadata": {},
   "source": [
    "### DT"
   ]
  },
  {
   "cell_type": "code",
   "execution_count": null,
   "id": "77b8dc36",
   "metadata": {},
   "outputs": [],
   "source": [
    "model_dt = DecisionTreeClassifier(max_depth=3,max_features=11,random_state=0)"
   ]
  },
  {
   "cell_type": "markdown",
   "id": "f02e6306",
   "metadata": {},
   "source": [
    "### RF"
   ]
  },
  {
   "cell_type": "code",
   "execution_count": null,
   "id": "f95cf509",
   "metadata": {},
   "outputs": [],
   "source": [
    "model_rf = RF(n_estimators=14, max_features ='auto' ,max_depth = 3, max_leaf_nodes=11,random_state=0)"
   ]
  }
 ],
 "metadata": {
  "kernelspec": {
   "display_name": "Python 3 (ipykernel)",
   "language": "python",
   "name": "python3"
  },
  "language_info": {
   "codemirror_mode": {
    "name": "ipython",
    "version": 3
   },
   "file_extension": ".py",
   "mimetype": "text/x-python",
   "name": "python",
   "nbconvert_exporter": "python",
   "pygments_lexer": "ipython3",
   "version": "3.9.7"
  }
 },
 "nbformat": 4,
 "nbformat_minor": 5
}
