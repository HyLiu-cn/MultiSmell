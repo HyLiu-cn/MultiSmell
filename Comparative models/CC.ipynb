{
 "cells": [
  {
   "cell_type": "code",
   "execution_count": null,
   "id": "d90da334",
   "metadata": {},
   "outputs": [],
   "source": [
    "import pandas as pd\n",
    "from sklearn.multioutput import ClassifierChain\n",
    "from sklearn.datasets import make_multilabel_classification\n",
    "from sklearn.ensemble import RandomForestClassifier\n",
    "import numpy as np\n",
    "from sklearn.model_selection import train_test_split"
   ]
  },
  {
   "cell_type": "markdown",
   "id": "82ca6325",
   "metadata": {},
   "source": [
    "### CC model"
   ]
  },
  {
   "cell_type": "code",
   "execution_count": null,
   "id": "07c0b979",
   "metadata": {},
   "outputs": [],
   "source": [
    "L_list = [\n",
    "    ['is_FE','is_LPL','is_LM'],\n",
    "    ['is_FE','is_LM','is_LPL'],\n",
    "    ['is_LPL','is_FE','is_LM'],\n",
    "    ['is_LPL','is_LM','is_FE'],\n",
    "    ['is_LM','is_FE','is_LPL'],\n",
    "    ['is_LM','is_LPL','is_FE'],\n",
    "]\n",
    "L_list"
   ]
  },
  {
   "cell_type": "code",
   "execution_count": null,
   "id": "b7dcf691",
   "metadata": {},
   "outputs": [],
   "source": [
    "L_order = np.array([])\n",
    "new_y = pd.DataFrame()\n",
    "\n",
    "for i in L_list:\n",
    "    L_order = np.append(L_order,i).reshape(-1,3)\n",
    "    new_y = pd.concat([y.loc[:,i[0]],y.loc[:,i[1]],y.loc[:,i[2]]],axis=1)\n",
    "    x_train,x_test,y_train,y_test = train_test_split(x,new_y,train_size=0.7)\n",
    "    \n",
    "    base_c_list = [RandomForestClassifier(n_estimators=3,max_features ='auto' ,max_depth = 3, max_leaf_nodes=11,random_state=i) for i in range(3)]\n",
    "    cc_model = ClassifierChain(base_c_list)\n",
    "    \n",
    "    for cc in cc_model.base_estimator:\n",
    "        cc.fit(x_train,y_train)\n",
    "        \n",
    "    y_pre = np.array([cc.predict(x_test) for cc in cc_model.base_estimator])\n",
    "    y_pre = y_pre.mean(axis=0)"
   ]
  },
  {
   "cell_type": "markdown",
   "id": "270920e7",
   "metadata": {},
   "source": [
    "### ECC model"
   ]
  },
  {
   "cell_type": "code",
   "execution_count": null,
   "id": "aa2bb33b",
   "metadata": {},
   "outputs": [],
   "source": [
    "Necc = 10\n",
    "Nmlcc = 6\n",
    "base_estimator = [RandomForestClassifier(n_estimators=3, max_features ='auto' ,max_depth = 3, max_leaf_nodes=11,random_state=n) for n in range(3)]\n",
    "Ecc = [ClassifierChain(base_estimator,random_state=k) for k in range(Nmlcc)]"
   ]
  },
  {
   "cell_type": "code",
   "execution_count": null,
   "id": "4ab557f6",
   "metadata": {},
   "outputs": [],
   "source": [
    "for i in range(Necc):\n",
    "    Rmlcc,Lchain = np.array([]),np.array([])\n",
    "    for o,ecc in enumerate(Ecc):\n",
    "        for label in L_list:\n",
    "            new_y = pd.concat([y.loc[:,label[0]],y.loc[:,label[1]],y.loc[:,label[2]]],axis=1)\n",
    "            x_train,x_test,y_train,y_test = train_test_split(x,new_y,train_size=0.7)\n",
    "\n",
    "            for h in ecc.base_estimator:\n",
    "                h.fit(x_train,y_train)\n",
    "            y_pre = np.array([e.predict(x_test) for e in ecc.base_estimator])\n",
    "            y_pre = y_pre.mean(axis=0)"
   ]
  }
 ],
 "metadata": {
  "kernelspec": {
   "display_name": "Python 3 (ipykernel)",
   "language": "python",
   "name": "python3"
  },
  "language_info": {
   "codemirror_mode": {
    "name": "ipython",
    "version": 3
   },
   "file_extension": ".py",
   "mimetype": "text/x-python",
   "name": "python",
   "nbconvert_exporter": "python",
   "pygments_lexer": "ipython3",
   "version": "3.9.7"
  }
 },
 "nbformat": 4,
 "nbformat_minor": 5
}
